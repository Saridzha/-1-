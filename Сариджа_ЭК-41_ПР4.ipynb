{
 "cells": [
  {
   "cell_type": "markdown",
   "id": "e9e24062",
   "metadata": {},
   "source": [
    "# Задание 1"
   ]
  },
  {
   "cell_type": "code",
   "execution_count": 21,
   "id": "85c6cc38",
   "metadata": {},
   "outputs": [],
   "source": [
    "def all_unique(iterator):\n",
    "    b = set(iterator)\n",
    "    if len(b)==len(iterator):\n",
    "                return True\n",
    "    return False\n"
   ]
  },
  {
   "cell_type": "code",
   "execution_count": 23,
   "id": "83a41a11",
   "metadata": {},
   "outputs": [
    {
     "name": "stdout",
     "output_type": "stream",
     "text": [
      "True\n",
      "True\n",
      "False\n"
     ]
    }
   ],
   "source": [
    "print(all_unique('cat'))\n",
    "print(all_unique([1,2,3]))\n",
    "print(all_unique([1,2,1]))"
   ]
  },
  {
   "cell_type": "markdown",
   "id": "a25a0853",
   "metadata": {},
   "source": [
    "# Задание 2"
   ]
  },
  {
   "cell_type": "code",
   "execution_count": 24,
   "id": "523f053d",
   "metadata": {},
   "outputs": [],
   "source": [
    "def diff_keys(old, new):\n",
    "    res = {}\n",
    "    old_keys = set(old.keys())\n",
    "    new_keys = set(new.keys())\n",
    "    res['kept'] = old_keys & new_keys\n",
    "    res['added'] = new_keys - old_keys\n",
    "    res['removed'] = old_keys - new_keys\n",
    "    return res"
   ]
  },
  {
   "cell_type": "code",
   "execution_count": 25,
   "id": "99d9ad3d",
   "metadata": {},
   "outputs": [
    {
     "name": "stdout",
     "output_type": "stream",
     "text": [
      "{'kept': set(), 'added': set(), 'removed': {'name', 'age'}}\n",
      "{'kept': set(), 'added': {'name', 'age'}, 'removed': set()}\n",
      "{'kept': {'a'}, 'added': set(), 'removed': set()}\n"
     ]
    }
   ],
   "source": [
    "print(diff_keys({'name': 'Bob', 'age': 42}, {}))\n",
    "print(diff_keys({}, {'name': 'Bob', 'age': 42}))\n",
    "print(diff_keys({'a': 2}, {'a': 1}))"
   ]
  },
  {
   "cell_type": "code",
   "execution_count": null,
   "id": "cb131e28",
   "metadata": {},
   "outputs": [],
   "source": []
  }
 ],
 "metadata": {
  "kernelspec": {
   "display_name": "Python 3",
   "language": "python",
   "name": "python3"
  },
  "language_info": {
   "codemirror_mode": {
    "name": "ipython",
    "version": 3
   },
   "file_extension": ".py",
   "mimetype": "text/x-python",
   "name": "python",
   "nbconvert_exporter": "python",
   "pygments_lexer": "ipython3",
   "version": "3.8.8"
  }
 },
 "nbformat": 4,
 "nbformat_minor": 5
}
