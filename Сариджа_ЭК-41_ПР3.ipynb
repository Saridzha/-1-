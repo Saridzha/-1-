{
 "cells": [
  {
   "cell_type": "markdown",
   "id": "c4f35c5c",
   "metadata": {},
   "source": [
    "# Завдання 1"
   ]
  },
  {
   "cell_type": "code",
   "execution_count": 2,
   "id": "8e83d247",
   "metadata": {},
   "outputs": [],
   "source": [
    "def make_user(name,age):\n",
    "    dictionary = {\n",
    "        'name':name,\n",
    "        'age':age\n",
    "    }\n",
    "    return dictionary"
   ]
  },
  {
   "cell_type": "code",
   "execution_count": 3,
   "id": "e7c756e5",
   "metadata": {},
   "outputs": [
    {
     "name": "stdout",
     "output_type": "stream",
     "text": [
      "<class 'dict'>\n",
      "{'name': 'Phil', 'age': 25}\n"
     ]
    }
   ],
   "source": [
    "phil=make_user('Phil', 25)\n",
    "print(type(phil))\n",
    "print(phil)"
   ]
  },
  {
   "cell_type": "code",
   "execution_count": 4,
   "id": "c3823fcb",
   "metadata": {},
   "outputs": [],
   "source": [
    "def format_user(user):\n",
    "    a = user.get('name') + ', ' + str(user.get('age'))\n",
    "    return a"
   ]
  },
  {
   "cell_type": "code",
   "execution_count": 5,
   "id": "7107a1e5",
   "metadata": {},
   "outputs": [
    {
     "name": "stdout",
     "output_type": "stream",
     "text": [
      "Phil, 25\n"
     ]
    }
   ],
   "source": [
    "print(format_user(phil))"
   ]
  },
  {
   "cell_type": "markdown",
   "id": "f55a7a66",
   "metadata": {},
   "source": [
    "# Завдання 2"
   ]
  },
  {
   "cell_type": "code",
   "execution_count": 1,
   "id": "79f5104c",
   "metadata": {},
   "outputs": [],
   "source": [
    "def count_all(collect):\n",
    "    dict = {}\n",
    "    for k in collect:\n",
    "        dict [k] = collect.count(k)\n",
    "    return dict"
   ]
  },
  {
   "cell_type": "code",
   "execution_count": 2,
   "id": "ca285b9c",
   "metadata": {},
   "outputs": [
    {
     "name": "stdout",
     "output_type": "stream",
     "text": [
      "{'cat': 2, 'dog': 2}\n"
     ]
    }
   ],
   "source": [
    "print(count_all(['cat','dog','cat','dog']))"
   ]
  },
  {
   "cell_type": "code",
   "execution_count": null,
   "id": "db4ef52e",
   "metadata": {},
   "outputs": [],
   "source": []
  }
 ],
 "metadata": {
  "kernelspec": {
   "display_name": "Python 3",
   "language": "python",
   "name": "python3"
  },
  "language_info": {
   "codemirror_mode": {
    "name": "ipython",
    "version": 3
   },
   "file_extension": ".py",
   "mimetype": "text/x-python",
   "name": "python",
   "nbconvert_exporter": "python",
   "pygments_lexer": "ipython3",
   "version": "3.8.8"
  }
 },
 "nbformat": 4,
 "nbformat_minor": 5
}
