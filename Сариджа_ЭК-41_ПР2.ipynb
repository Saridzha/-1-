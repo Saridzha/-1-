{
 "cells": [
  {
   "cell_type": "markdown",
   "id": "b2aa0294",
   "metadata": {},
   "source": [
    "# Завдання 1"
   ]
  },
  {
   "cell_type": "code",
   "execution_count": 1,
   "id": "8c407824",
   "metadata": {},
   "outputs": [],
   "source": [
    "def duplicate(value):\n",
    "    if value != None:\n",
    "        result = value * 2\n",
    "        return result"
   ]
  },
  {
   "cell_type": "code",
   "execution_count": 5,
   "id": "0ad577e6",
   "metadata": {},
   "outputs": [
    {
     "name": "stdout",
     "output_type": "stream",
     "text": [
      "[1, 2, 1, 2]\n"
     ]
    }
   ],
   "source": [
    "print(duplicate ([1, 2])) "
   ]
  },
  {
   "cell_type": "markdown",
   "id": "1a410e7c",
   "metadata": {},
   "source": [
    "# Завдання 2"
   ]
  },
  {
   "cell_type": "code",
   "execution_count": 107,
   "id": "0d82e551",
   "metadata": {},
   "outputs": [],
   "source": [
    "def rotate(list):\n",
    "    if list != None:\n",
    "            l = [1, 2, 3]   \n",
    "            l.insert(0, l.pop())\n",
    "            return l\n",
    "           \n",
    "            \n"
   ]
  },
  {
   "cell_type": "code",
   "execution_count": 108,
   "id": "7869fdef",
   "metadata": {},
   "outputs": [
    {
     "name": "stdout",
     "output_type": "stream",
     "text": [
      "[3, 1, 2]\n"
     ]
    }
   ],
   "source": [
    "print (rotate([1, 2, 3]))"
   ]
  },
  {
   "cell_type": "markdown",
   "id": "2104c627",
   "metadata": {},
   "source": [
    "# Завдання 3"
   ]
  },
  {
   "cell_type": "code",
   "execution_count": 113,
   "id": "97b1699b",
   "metadata": {},
   "outputs": [],
   "source": [
    "def rotated_left(a):\n",
    "    if len(a) ==0:\n",
    "        return a\n",
    "    a = a[1:] + a[0]\n",
    "    return a"
   ]
  },
  {
   "cell_type": "code",
   "execution_count": 114,
   "id": "8db270a5",
   "metadata": {},
   "outputs": [
    {
     "name": "stdout",
     "output_type": "stream",
     "text": [
      "BCDA\n"
     ]
    }
   ],
   "source": [
    "print(rotated_left('ABCD'))"
   ]
  },
  {
   "cell_type": "code",
   "execution_count": 115,
   "id": "0ba07a87",
   "metadata": {},
   "outputs": [],
   "source": [
    "def rotated_right(b):\n",
    "    if len(b) ==0:\n",
    "        return b\n",
    "    b = b[len(b)-1:] + b[:len(b)-1]\n",
    "    return b"
   ]
  },
  {
   "cell_type": "code",
   "execution_count": 117,
   "id": "60932180",
   "metadata": {},
   "outputs": [
    {
     "name": "stdout",
     "output_type": "stream",
     "text": [
      "[4, 1, 2, 3]\n"
     ]
    }
   ],
   "source": [
    "print(rotated_right([1,2,3,4]))"
   ]
  },
  {
   "cell_type": "code",
   "execution_count": null,
   "id": "93ab426f",
   "metadata": {},
   "outputs": [],
   "source": []
  }
 ],
 "metadata": {
  "kernelspec": {
   "display_name": "Python 3",
   "language": "python",
   "name": "python3"
  },
  "language_info": {
   "codemirror_mode": {
    "name": "ipython",
    "version": 3
   },
   "file_extension": ".py",
   "mimetype": "text/x-python",
   "name": "python",
   "nbconvert_exporter": "python",
   "pygments_lexer": "ipython3",
   "version": "3.8.8"
  }
 },
 "nbformat": 4,
 "nbformat_minor": 5
}
