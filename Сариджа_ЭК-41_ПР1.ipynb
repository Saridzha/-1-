{
 "cells": [
  {
   "cell_type": "code",
   "execution_count": 1,
   "id": "75380798",
   "metadata": {},
   "outputs": [],
   "source": [
    "import math"
   ]
  },
  {
   "cell_type": "code",
   "execution_count": 2,
   "id": "0644f426",
   "metadata": {},
   "outputs": [],
   "source": [
    "def get_square_roots (a):\n",
    "    my_list = []\n",
    "    if a>0:\n",
    "         my_list.append(-math.sqrt(a))\n",
    "         my_list.append(math.sqrt(a))\n",
    "    if a<0:   \n",
    "         my_list = 'нет корней'\n",
    "    return  my_list"
   ]
  },
  {
   "cell_type": "code",
   "execution_count": 3,
   "id": "f0b3cd67",
   "metadata": {},
   "outputs": [
    {
     "name": "stdout",
     "output_type": "stream",
     "text": [
      "[-8.0, 8.0]\n"
     ]
    }
   ],
   "source": [
    "print(get_square_roots (64))"
   ]
  },
  {
   "cell_type": "code",
   "execution_count": 4,
   "id": "20c1e607",
   "metadata": {},
   "outputs": [],
   "source": [
    "def get_range (b):\n",
    "    my_range = []\n",
    "    if b>0:\n",
    "        i=0\n",
    "        while i<b:\n",
    "             my_range.append(i)\n",
    "        i=i+1\n",
    "    return  my_range"
   ]
  },
  {
   "cell_type": "code",
   "execution_count": null,
   "id": "173b08f4",
   "metadata": {},
   "outputs": [],
   "source": [
    "print(get_range (5))"
   ]
  },
  {
   "cell_type": "code",
   "execution_count": 3,
   "id": "c42a757a",
   "metadata": {},
   "outputs": [],
   "source": [
    "def sec_smallest(numbers):\n",
    "    c = min(numbers)\n",
    "    my_num = []\n",
    "    for i in numbers:\n",
    "        if i>c:\n",
    "            my_num.append(i)\n",
    "    d = min(my_num)\n",
    "    return d"
   ]
  },
  {
   "cell_type": "code",
   "execution_count": 4,
   "id": "b3664963",
   "metadata": {},
   "outputs": [
    {
     "name": "stdout",
     "output_type": "stream",
     "text": [
      "Sec_smallest: -2\n"
     ]
    }
   ],
   "source": [
    "print('Sec_smallest:', sec_smallest([1, 2, -8, -8, -2, 0]))"
   ]
  },
  {
   "cell_type": "code",
   "execution_count": null,
   "id": "d6f05299",
   "metadata": {},
   "outputs": [],
   "source": []
  }
 ],
 "metadata": {
  "kernelspec": {
   "display_name": "Python 3",
   "language": "python",
   "name": "python3"
  },
  "language_info": {
   "codemirror_mode": {
    "name": "ipython",
    "version": 3
   },
   "file_extension": ".py",
   "mimetype": "text/x-python",
   "name": "python",
   "nbconvert_exporter": "python",
   "pygments_lexer": "ipython3",
   "version": "3.8.8"
  }
 },
 "nbformat": 4,
 "nbformat_minor": 5
}
